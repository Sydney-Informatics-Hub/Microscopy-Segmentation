{
 "cells": [
  {
   "attachments": {},
   "cell_type": "markdown",
   "metadata": {},
   "source": [
    "# Segment Any Medical-Model (SAMM): A 3D Slicer integration to Meta's SAM.\n",
    "\n",
    "Requirements: Torch needs to be compiled with CUDA\n",
    "\n",
    "[paper](https://arxiv.org/abs/2304.05622)\n",
    "\n",
    "[Laboratory of Biomechanical and Image Guided Surgical Systems](https://bigss.lcsr.jhu.edu/), [Johns Hopkins University](https://www.jhu.edu/)\n",
    "\n",
    "## SAMM Features\n",
    "- 3 View Inference\n",
    "- Embedding saving\n",
    "- Data type\n",
    "  - Volume\n",
    "  - 2D Image\n",
    "  - RGB Image (WIP)\n",
    "- models\n",
    "  - vit_b\n",
    "  - vit_h\n",
    "  - vit_l\n",
    "  - vit_t - [MobileSAM](https://github.com/ChaoningZhang/MobileSAM)\n",
    "  - vit_b - [MedSAM](https://github.com/bowang-lab/MedSAM)\n",
    "- interactions\n",
    "  - positive and negative points\n",
    "  - 2D bounding box\n",
    "  - 3D bounding box (WIP)\n",
    "  - combination\n",
    "  - automatic segmentation\n",
    "- training (WIP)\n"
   ]
  },
  {
   "attachments": {},
   "cell_type": "markdown",
   "metadata": {},
   "source": [
    "### Installation\n",
    "\n",
    "```bash\n",
    "# Create conda environment\n",
    "conda create -n samm python=3.9\n",
    "conda activate samm\n",
    "\n",
    "# install pytorch etc\n",
    "conda install pytorch torchvision -c pytorch  \n",
    "pip install opencv-python pycocotools matplotlib onnxruntime onnx timm\n",
    "\n",
    "# install SAMM\n",
    "git clone git@github.com:bingogome/samm.git\n",
    "\n",
    "# install SAM\n",
    "pip install git+https://github.com/facebookresearch/segment-anything.git\n",
    "pip install git+https://github.com/ChaoningZhang/MobileSAM.git\n",
    "\n",
    "# install other dependencies\n",
    "pip install pyyaml pyzmq tqdm\n",
    "\n",
    "# install sam models\n",
    "pip install git+https://github.com/ChaoningZhang/MobileSAM.git\n",
    "wget https://dl.fbaipublicfiles.com/segment_anything/sam_vit_h_4b8939.pth \n",
    "wget https://dl.fbaipublicfiles.com/segment_anything/sam_vit_b_01ec64.pth\n",
    "\n",
    "# move sam models to samm/samm-python-terminal/samm-workspace\n",
    "mv sam_vit_h_4b8939.pth samm/samm-python-terminal/samm-workspace\n",
    "mv sam_vit_b_01ec64.pth samm/samm-python-terminal/samm-workspace\n",
    "```"
   ]
  },
  {
   "attachments": {},
   "cell_type": "markdown",
   "metadata": {},
   "source": [
    "### Installation on Linux\n",
    "\n",
    "Nate's intructions:\n",
    "    \n",
    "```bash\n",
    "curl -o miniconda.sh https://repo.anaconda.com/miniconda/Miniconda3-py38_4.12.0-Linux-x86_64.sh \n",
    "\n",
    "conda create --name samm python=3.8 \n",
    "\n",
    "pip install git+https://github.com/facebookresearch/segment-anything.git \n",
    "\n",
    "pip install opencv-python pycocotools matplotlib onnxruntime onnx \n",
    "\n",
    "git clone https://github.com/bingogome/samm.git \n",
    "\n",
    "pip3 install torch torchvision torchaudio --index-url https://download.pytorch.org/whl/cu118 \n",
    "\n",
    "pip install pyyaml pyzmq \n",
    "\n",
    "wget https://dl.fbaipublicfiles.com/segment_anything/sam_vit_h_4b8939.pth \n",
    "\n",
    "```"
   ]
  },
  {
   "attachments": {},
   "cell_type": "markdown",
   "metadata": {},
   "source": [
    "### Start 3D Slicer\n",
    "\n",
    "If you are using Windows, it's okay if you don't install pycocotools.\n",
    "\n",
    "Start 3D Slicer, open Python Console in 3D slicer:\n"
   ]
  },
  {
   "cell_type": "code",
   "execution_count": null,
   "metadata": {},
   "outputs": [],
   "source": [
    "slicer.util.pip_install(\"pyyaml\")\n",
    "slicer.util.pip_install(\"pyzmq\")\n",
    "slicer.util.pip_install(\"tqdm\")"
   ]
  },
  {
   "attachments": {},
   "cell_type": "markdown",
   "metadata": {},
   "source": [
    "SD Slicer -> `Developer Tools` &rarr; `Extension Wizard`.\n",
    "\n",
    "`Extension Tools` -> `Select Extension` -> import the samm/samm folder. \n",
    "\n",
    "Back to terminal, cd to samm (upper level)\n",
    "\n",
    "Run \n",
    "\n",
    "```bash\n",
    "python ./samm-python-terminal/sam_server.py\n",
    "```\n",
    "\n",
    "If it throws an error missing \"sam_vit_h_4b8939.pth\" or oether xxx.pth, move segment-anything/notebooks/sam_vit_h_4b8939.pth to samm/samm-python-terminal/samm-workspace\n",
    "\n",
    "Then follow these instructions:\n",
    "\n",
    "Select under Modules -> Segmentation -> SAMM Base\n",
    "\n",
    "Select `Initialization`\n",
    "\n",
    "Select Model in `Model Selection`\n",
    "\n",
    "Then Compute Embeddings. This might take a a while (10mins - 1hr) depending on your GPU.\n",
    "\n",
    "Once Compute Embeddings are finished (check bash teminral where sam_Server.py is running), select Prompt --> Start Mask Sync \n",
    "\n",
    "Then you can start segmenting by adding points, boxes etc.\n",
    "\n",
    "\n",
    "For more details follow the [demo](https://www.youtube.com/watch?v=vZK45noZVIA) and Segment Any Medical Model away\n"
   ]
  },
  {
   "cell_type": "markdown",
   "metadata": {},
   "source": [
    "### Test Results\n",
    "\n",
    "Test on simple 4 image stack with sam_vit_b_01ec64:\n",
    "\n",
    "    - compute embeddings time consuming\n",
    "    - segmentation results are not accurate (see example images below)\n",
    "\n",
    "<figure>\n",
    "<img src=\"images/Example_SAMM.png\" width=\"500\"  alt=\"Example SAMM setup\">\n",
    "  <figcaption>Example SAMM setup.</figcaption>\n",
    "</figure>\n",
    "\n",
    "\n",
    "<figure>\n",
    "<img src=\"images/Example_pointsegmentation.png\" width=\"500\"  alt=\"Example of Point Segmentation\">\n",
    " <figcaption>Example of Point Segmentation\".</figcaption>\n",
    "</figure>\n",
    "\n",
    "\n",
    "\n"
   ]
  },
  {
   "cell_type": "markdown",
   "metadata": {},
   "source": [
    "# Alternative Tool: SlicerTomoSAM\n",
    "\n",
    "Follow installation instructions:\n",
    "\n",
    "https://github.com/fsemerar/SlicerTomoSAM\n",
    "\n",
    "Advantage: Easier installation than SAMM and no need to run additional server\n",
    "\n",
    "Disadvantage: takes long time to computer embeddings (similar to SAMM), proposed way to compute embeddings for each image/volume in Colab adds extra complexity and takes long time to upload data."
   ]
  },
  {
   "attachments": {},
   "cell_type": "markdown",
   "metadata": {},
   "source": [
    "## References\n",
    "If you use SAMM or SlicerTomoSAMM in your research, please consider use the following BibTeX entry."
   ]
  },
  {
   "attachments": {},
   "cell_type": "markdown",
   "metadata": {},
   "source": [
    "```bibtex\n",
    "@article{liu2023samm,\n",
    "  title={SAMM (Segment Any Medical Model): A 3D Slicer Integration to SAM},\n",
    "  author={Liu, Yihao and Zhang, Jiaming and She, Zhangcong and Kheradmand, Amir and Armand, Mehran},\n",
    "  journal={arXiv preprint arXiv:2304.05622},\n",
    "  year={2023}\n",
    "}\n",
    "\n",
    "@article{semeraro2023tomosam,\n",
    "  title={TomoSAM: a 3D Slicer extension using SAM for tomography segmentation},\n",
    "  author={Semeraro, Federico and Quintart, Alexandre and Izquierdo, Sergio Fraile and Ferguson, Joseph C},\n",
    "  journal={arXiv preprint arXiv:2306.08609},\n",
    "  year={2023}\n",
    "}\n",
    "```"
   ]
  }
 ],
 "metadata": {
  "kernelspec": {
   "display_name": "py39_agrefed",
   "language": "python",
   "name": "python3"
  },
  "language_info": {
   "name": "python",
   "version": "3.9.13 | packaged by conda-forge | (main, May 27 2022, 17:01:00) \n[Clang 13.0.1 ]"
  },
  "orig_nbformat": 4,
  "vscode": {
   "interpreter": {
    "hash": "83bd027c9be7dd4a474eeba23ee9bda635ae15715cc8badea4bd837ce165c3fa"
   }
  }
 },
 "nbformat": 4,
 "nbformat_minor": 2
}
