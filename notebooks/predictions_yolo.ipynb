{
 "cells": [
  {
   "cell_type": "markdown",
   "metadata": {
    "id": "7mGmQbAO5pQb"
   },
   "source": [
    "# Setup\n",
    "\n",
    "Clone GitHub [repository](https://github.com/Sydney-Informatics-Hub/PIPE-4011-EM-CV), install [dependencies](https://github.com/Sydney-Informatics-Hub/PIPE-4011-EM-CV/blob/master/requirements.txt) and check PyTorch and GPU."
   ]
  },
  {
   "cell_type": "code",
   "execution_count": null,
   "metadata": {
    "colab": {
     "base_uri": "https://localhost:8080/"
    },
    "id": "wbvMlHd_QwMG",
    "outputId": "171b23f0-71b9-4cbf-b666-6fa2ecef70c8"
   },
   "outputs": [],
   "source": [
    "!git clone https://github.com/Sydney-Informatics-Hub/PIPE-4011-EM-CV  # clone\n",
    "\n",
    "%cd PIPE-4011-EM-CV\n",
    "%pip install -qr requirements.txt\n",
    "# install yolo dependencies\n",
    "%cd yoloseg\n",
    "%pip install -qr requirements.txt"
   ]
  },
  {
   "cell_type": "code",
   "execution_count": null,
   "metadata": {},
   "outputs": [],
   "source": [
    "import sys\n",
    "import os\n",
    "import torch\n",
    "import utils\n",
    "import subprocess\n",
    "display = utils.notebook_init()  # checks"
   ]
  },
  {
   "cell_type": "code",
   "execution_count": null,
   "metadata": {},
   "outputs": [],
   "source": [
    "## Add local modules to path\n",
    "sys.path.append('../tools')\n",
    "import yolo2mask\n",
    "import image2tiles\n",
    "import merge_tiles"
   ]
  },
  {
   "cell_type": "markdown",
   "metadata": {},
   "source": [
    "### Input Settings"
   ]
  },
  {
   "cell_type": "code",
   "execution_count": null,
   "metadata": {},
   "outputs": [],
   "source": [
    "# Path to input images\n",
    "path_images = '../testdata/sample_highres'\n",
    "\n",
    "# Path to results\n",
    "path_results = '../results_mito'\n",
    "\n",
    "# Path to the trained model\n",
    "path_model = 'models/yolov5m_seg_mito_lipids.pt'\n",
    "\n",
    "# tile sizes for inference (dependent on input image size and size of objects of interest)\n",
    "tile_size = 1280"
   ]
  },
  {
   "cell_type": "markdown",
   "metadata": {},
   "source": [
    "## Prepare Data\n",
    "\n",
    "Slice images into tiles"
   ]
  },
  {
   "cell_type": "code",
   "execution_count": null,
   "metadata": {},
   "outputs": [],
   "source": [
    "# List of images to process\n",
    "accepted_formats = [\"png\", \"jpg\", \"jpeg\", \"tif\", \"tiff\"]\n",
    "image_list = [f for f in os.listdir(path_images) if f.split(\".\")[-1].lower() in accepted_formats]\n",
    "basenames = [f.split(\".\")[0] for f in image_list]\n",
    "print(\"Found {} images to process.\".format(len(image_list)))"
   ]
  },
  {
   "cell_type": "code",
   "execution_count": null,
   "metadata": {},
   "outputs": [],
   "source": [
    "path_tiles = os.path.join(path_results, 'tiles')\n",
    "image2tiles.tile_images_in_folder(path_images, tile_width=tile_size, tile_height=tile_size, max_overlap_ratio=0, outpath=path_tiles)"
   ]
  },
  {
   "cell_type": "markdown",
   "metadata": {
    "id": "4JnkELT0cIJg"
   },
   "source": [
    "## Segmentation Predictions\n",
    "\n",
    "Use finetuned YOLO segmentation model to generate segmentation labels."
   ]
  },
  {
   "cell_type": "code",
   "execution_count": null,
   "metadata": {},
   "outputs": [],
   "source": [
    "outpat_pred = os.path.join(path_results, \"predict-seg\")\n",
    "cmd = f\"python predict.py --weights {path_model} --source {path_tiles} --project {outpat_pred} --img 640 --conf 0.4 --line-thickness 3 --save-txt\"\n",
    "subprocess.run(cmd.split())"
   ]
  },
  {
   "cell_type": "markdown",
   "metadata": {},
   "source": [
    "## Generate image masks\n",
    "\n",
    "Convert YOLO ouptut labels (.txt files) to image masks"
   ]
  },
  {
   "cell_type": "code",
   "execution_count": null,
   "metadata": {},
   "outputs": [],
   "source": [
    "path_labels = os.path.join(outpat_pred, 'exp/labels')\n",
    "path_masks = os.path.join(path_results, 'masks')\n",
    "yolo2mask.convert_to_mask(path_labels, path_tiles, outpath = path_masks, cat_id=0, format_out=\"jpg\")"
   ]
  },
  {
   "cell_type": "markdown",
   "metadata": {},
   "source": [
    "## Merge masks\n",
    "\n",
    "Merge mask tiles back to fullsize image"
   ]
  },
  {
   "cell_type": "code",
   "execution_count": null,
   "metadata": {},
   "outputs": [],
   "source": [
    "outpath_merged = os.path.join(path_results, 'masks_merged')\n",
    "os.makedirs(outpath_merged, exist_ok=True)\n",
    "for basename in basenames:\n",
    "    merge_tiles.merge(path_masks, basename, output_file= os.path.join(outpath_merged, f'{basename}_mask_mito.jpg'))"
   ]
  }
 ],
 "metadata": {
  "accelerator": "GPU",
  "colab": {
   "name": "YOLOv5 Segmentation Tutorial",
   "provenance": [],
   "toc_visible": true
  },
  "kernelspec": {
   "display_name": "Python 3 (ipykernel)",
   "language": "python",
   "name": "python3"
  },
  "language_info": {
   "codemirror_mode": {
    "name": "ipython",
    "version": 3
   },
   "file_extension": ".py",
   "mimetype": "text/x-python",
   "name": "python",
   "nbconvert_exporter": "python",
   "pygments_lexer": "ipython3",
   "version": "3.10.13"
  }
 },
 "nbformat": 4,
 "nbformat_minor": 4
}
