{
 "cells": [
  {
   "cell_type": "markdown",
   "metadata": {},
   "source": [
    "# Cell Segmentation for Electron Microscopy - Mitochondria\n",
    "\n",
    "This is an example notebook for creating segmentation masks of cell organelles in EM images using a fine-tuned AI segmentation model. The model is based on YOLOv5m-seg, which has been trained on a set of EM data including labels for two categories: mitochondria and fat-lipids. \n",
    "\n",
    "The trained model weights are published on the Github repo in [yolov5m_seg_mito_lipids.pt](https://github.com/Sydney-Informatics-Hub/PIPE-4011-EM-CV/blob/main/yoloseg/models/yolov5m_seg_mito_lipids.pt).\n",
    "\n",
    "The trained model's accuracy (mAP-50 score) is:\n",
    "- mitochondria: 0.86\n",
    "- fat lipids: 0.92"
   ]
  },
  {
   "cell_type": "markdown",
   "metadata": {
    "id": "7mGmQbAO5pQb"
   },
   "source": [
    "## Setup\n",
    "\n",
    "Clone GitHub [repository](https://github.com/Sydney-Informatics-Hub/PIPE-4011-EM-CV) and install model dependencies."
   ]
  },
  {
   "cell_type": "code",
   "execution_count": null,
   "metadata": {
    "colab": {
     "base_uri": "https://localhost:8080/"
    },
    "id": "wbvMlHd_QwMG",
    "outputId": "171b23f0-71b9-4cbf-b666-6fa2ecef70c8"
   },
   "outputs": [],
   "source": [
    "# clone github if not done yet\n",
    "!git clone https://github.com/Sydney-Informatics-Hub/PIPE-4011-EM-CV  \n",
    "\n",
    "# install requirements\n",
    "%cd PIPE-4011-EM-CV/yoloseg\n",
    "%pip install -qr requirements.txt"
   ]
  },
  {
   "cell_type": "code",
   "execution_count": null,
   "metadata": {},
   "outputs": [],
   "source": [
    "import sys\n",
    "import os\n",
    "import torch\n",
    "import utils\n",
    "import subprocess\n",
    "display = utils.notebook_init()  # checks"
   ]
  },
  {
   "cell_type": "code",
   "execution_count": null,
   "metadata": {},
   "outputs": [],
   "source": [
    "## Add tool modules to path for pre and post processing\n",
    "sys.path.append('../tools')\n",
    "import yolo2mask\n",
    "import image2tiles\n",
    "import merge_tiles"
   ]
  },
  {
   "cell_type": "markdown",
   "metadata": {},
   "source": [
    "## Settings\n",
    "\n",
    "Define input and output settings. All data including model weights and test-data is included in the Github repo.\n",
    "The tile size is dependent on the input image size (here testdata has 8kx8k pixels) and the size of object of interest. "
   ]
  },
  {
   "cell_type": "code",
   "execution_count": null,
   "metadata": {},
   "outputs": [],
   "source": [
    "# Path to input images\n",
    "path_images = '../testdata/sample_highres'\n",
    "\n",
    "# Path to results\n",
    "path_results = '../results_mito'\n",
    "\n",
    "# Path to the trained model\n",
    "path_model = 'models/yolov5m_seg_mito_lipids.pt'\n",
    "\n",
    "# tile sizes for inference (dependent on input image size and size of objects of interest)\n",
    "tile_size = 1280"
   ]
  },
  {
   "cell_type": "markdown",
   "metadata": {},
   "source": [
    "## Prepare Data\n",
    "\n",
    "Slice images into smaller tiles. This will help for the model inference."
   ]
  },
  {
   "cell_type": "code",
   "execution_count": null,
   "metadata": {},
   "outputs": [],
   "source": [
    "# List of images to process\n",
    "accepted_formats = [\"png\", \"jpg\", \"jpeg\", \"tif\", \"tiff\"]\n",
    "image_list = [f for f in os.listdir(path_images) if f.split(\".\")[-1].lower() in accepted_formats]\n",
    "basenames = [f.split(\".\")[0] for f in image_list]\n",
    "print(\"Found {} images to process.\".format(len(image_list)))"
   ]
  },
  {
   "cell_type": "code",
   "execution_count": null,
   "metadata": {},
   "outputs": [],
   "source": [
    "path_tiles = os.path.join(path_results, 'tiles')\n",
    "image2tiles.tile_images_in_folder(path_images, tile_width=tile_size, tile_height=tile_size, max_overlap_ratio=0, outpath=path_tiles)"
   ]
  },
  {
   "cell_type": "markdown",
   "metadata": {
    "id": "4JnkELT0cIJg"
   },
   "source": [
    "## Segmentation Predictions\n",
    "\n",
    "Use finetuned YOLO segmentation model to generate segmentation labels. You can adjust the confidence threshold (number behind `conf` argument below) to include detections at lower or higher confidence level (range: 0 to 1)."
   ]
  },
  {
   "cell_type": "code",
   "execution_count": null,
   "metadata": {},
   "outputs": [],
   "source": [
    "outpat_pred = os.path.join(path_results, \"predict-seg\")\n",
    "cmd = f\"python predict.py --weights {path_model} --source {path_tiles} --project {outpat_pred} --img 640 --conf 0.4 --line-thickness 3 --save-txt\"\n",
    "subprocess.run(cmd.split())"
   ]
  },
  {
   "cell_type": "markdown",
   "metadata": {},
   "source": [
    "## Generate image masks\n",
    "\n",
    "Convert YOLO output labels and segmentation polygons (.txt files) to image binary masks (jpg images). Here cat_id=0 is applied to show only segmentation for the category mitochondria. If you like to show segmentation for all categories (for model here mitochondia and fat lipids), remove cat_id argument below or set to None."
   ]
  },
  {
   "cell_type": "code",
   "execution_count": null,
   "metadata": {},
   "outputs": [],
   "source": [
    "path_labels = os.path.join(outpat_pred, 'exp/labels')\n",
    "path_masks = os.path.join(path_results, 'masks')\n",
    "yolo2mask.convert_to_mask(path_labels, path_tiles, outpath = path_masks, cat_id=0, format_out=\"jpg\")"
   ]
  },
  {
   "cell_type": "markdown",
   "metadata": {},
   "source": [
    "## Merge masks\n",
    "\n",
    "Merge mask tiles back to fullsize image at original image size."
   ]
  },
  {
   "cell_type": "code",
   "execution_count": null,
   "metadata": {},
   "outputs": [],
   "source": [
    "outpath_merged = os.path.join(path_results, 'masks_merged')\n",
    "os.makedirs(outpath_merged, exist_ok=True)\n",
    "for basename in basenames:\n",
    "    merge_tiles.merge(path_masks, basename, output_file= os.path.join(outpath_merged, f'{basename}_mask_mito.jpg'))"
   ]
  },
  {
   "cell_type": "markdown",
   "metadata": {},
   "source": [
    "## Finish\n",
    "\n",
    "Inspect the results in the following result subfolders:\n",
    "- `predict-seg`: prediction contours for tiles with mitochondria and fat lipids\n",
    "- `masks`: tile binary masks for mitochondria\n",
    "- `masks_merged`: merged bindary mask for mitochondria at same image size as input image"
   ]
  }
 ],
 "metadata": {
  "accelerator": "GPU",
  "colab": {
   "name": "YOLOv5 Segmentation Tutorial",
   "provenance": [],
   "toc_visible": true
  },
  "kernelspec": {
   "display_name": "Python 3 (ipykernel)",
   "language": "python",
   "name": "python3"
  },
  "language_info": {
   "codemirror_mode": {
    "name": "ipython",
    "version": 3
   },
   "file_extension": ".py",
   "mimetype": "text/x-python",
   "name": "python",
   "nbconvert_exporter": "python",
   "pygments_lexer": "ipython3",
   "version": "3.10.13"
  }
 },
 "nbformat": 4,
 "nbformat_minor": 4
}
